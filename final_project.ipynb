{
 "cells": [
  {
   "cell_type": "markdown",
   "metadata": {},
   "source": [
    "# Introduction & Background"
   ]
  },
  {
   "cell_type": "markdown",
   "metadata": {},
   "source": [
    "### Overview\n",
    "\n",
    " ❏    Write a clear summary of what you did\n",
    "\n",
    " ❏    Limit overview to 3-4 sentences\n"
   ]
  },
  {
   "cell_type": "markdown",
   "metadata": {},
   "source": [
    "### Research Question\n",
    " ❏    Include your _specific_ data science question\n",
    "\n",
    " ❏    Make sure what you’re measuring (variables) to answer your question is clear\n"
   ]
  },
  {
   "cell_type": "markdown",
   "metadata": {},
   "source": [
    "### Background & Prior Work\n",
    " ❏    Include explanation of what work has been done previously\n",
    "\n",
    " ❏    Include citations or links to previous work\n",
    "\n",
    " ❏    Include an explanation of dataset(s) used (_i.e._, how the data was collected, features/variables included, number of observations, information in dataset)\n"
   ]
  },
  {
   "cell_type": "markdown",
   "metadata": {},
   "source": [
    "### Hypothesis\n",
    " ❏    Include your team’s hypothesis\n",
    "\n",
    " ❏    Ensure that this hypothesis is clear to readers\n",
    "\n",
    " ❏    Explain why you think this will be the outcome (what was your thinking?)\n"
   ]
  },
  {
   "cell_type": "markdown",
   "metadata": {},
   "source": [
    "# Data Analysis"
   ]
  },
  {
   "cell_type": "code",
   "execution_count": null,
   "metadata": {},
   "outputs": [],
   "source": [
    "# import essentials\n",
    "import scipy\n",
    "import pandas as pd\n",
    "import numpy as np\n",
    "\n",
    "# methods & metrics\n",
    "from sklearn.cluster import KMeans\n",
    "from sklearn.decomposition import PCA\n",
    "from sklearn.metrics import davies_bouldin_score, calinski_harabasz_score, silhouette_score\n",
    "from sklearn.datasets import make_blobs\n",
    "\n",
    "# util\n",
    "import matplotlib.pyplot as plt\n",
    "import plotly.express as px\n",
    "import glob\n",
    "import warnings"
   ]
  },
  {
   "cell_type": "markdown",
   "metadata": {},
   "source": [
    "### Wrangling\n",
    " ❏    Pull your data into Python and explain steps taken to isolate the data you need"
   ]
  },
  {
   "cell_type": "markdown",
   "metadata": {},
   "source": [
    "### Visualization\n",
    " ❏    Include at least three visualizations\n",
    "\n",
    " ❏    Clearly label all axes on plots\n",
    "\n",
    " ❏    Type of all plots appropriate given data displayed\n",
    "\n",
    " ❏    Interpretation of each visualization included in text\n"
   ]
  },
  {
   "cell_type": "markdown",
   "metadata": {},
   "source": [
    "### Results\n",
    " ❏    Appropriate analysis performed\n",
    "\n",
    " ❏    Output of analysis interpreted and interpretation included in notebook\n"
   ]
  },
  {
   "cell_type": "markdown",
   "metadata": {},
   "source": [
    "# Conclusion & Discussion\n",
    "❏    Discussion of your results and how they address your experimental question\n",
    "\n",
    "❏    Limitations of analysis discussed\n",
    "\n",
    "❏    What additional experiments would be interesting, and what data would you need?"
   ]
  }
 ],
 "metadata": {
  "language_info": {
   "name": "python"
  }
 },
 "nbformat": 4,
 "nbformat_minor": 2
}
